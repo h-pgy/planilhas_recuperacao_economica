{
 "cells": [
  {
   "cell_type": "code",
   "execution_count": 1,
   "id": "d941cfce-956a-4b7e-8385-8ed0e88200c8",
   "metadata": {},
   "outputs": [],
   "source": [
    "import pandas as pd\n",
    "from openpyxl import load_workbook\n",
    "from openpyxl.utils.exceptions import InvalidFileException\n",
    "import os"
   ]
  },
  {
   "cell_type": "code",
   "execution_count": 2,
   "id": "6882a68d-b021-4b59-8c6b-233be54f08e1",
   "metadata": {},
   "outputs": [],
   "source": [
    "path_data = 'original_data/formularios_03_08/'"
   ]
  },
  {
   "cell_type": "code",
   "execution_count": 3,
   "id": "8551d0ad-43b1-47d3-a65c-12adf1ca148f",
   "metadata": {},
   "outputs": [],
   "source": [
    "def get_files(path_data):\n",
    "    \n",
    "    walk = list(os.walk(path_data))[1:]\n",
    "    parsed_files = []\n",
    "\n",
    "    for caminho in walk:\n",
    "\n",
    "        folder, _, files = caminho\n",
    "\n",
    "        files = [os.path.join(folder, file) for file in files\n",
    "                if 'xls' in file.split('.')[-1]]\n",
    "\n",
    "        parsed_files.extend(files)\n",
    "    \n",
    "    return parsed_files"
   ]
  },
  {
   "cell_type": "code",
   "execution_count": 4,
   "id": "d1a91232-0a4c-4a68-aaa5-c3316a843781",
   "metadata": {},
   "outputs": [],
   "source": [
    "def pegar_orcamento(sheet):\n",
    "    \n",
    "    dados = {}\n",
    "    i=0\n",
    "    for linha in range(21, 25):\n",
    "        i+=1\n",
    "        dados[f'desc_ano_{i}'] = sheet[f'C{linha}'].value\n",
    "        dados[f'investimento_ano_{i}'] = sheet[f'E{linha}'].value\n",
    "        dados[f'custeio_ano_{i}'] = sheet[f'F{linha}'].value\n",
    "        dados[f'info_complementares_ano_{i}'] = sheet[f'I{linha}'].value\n",
    "        \n",
    "    return dados"
   ]
  },
  {
   "cell_type": "code",
   "execution_count": 5,
   "id": "74c98fc2-e316-4a24-90e0-32d187b46e34",
   "metadata": {},
   "outputs": [],
   "source": [
    "def pegar_demais_orgaos(sheet):\n",
    "    \n",
    "    aux = lambda x: str(x) if x else ''\n",
    "    \n",
    "    data = [\n",
    "        aux(sheet['B8'].value),\n",
    "        aux(sheet['B9'].value),\n",
    "        aux(sheet['B10'].value)\n",
    "    ]\n",
    "    \n",
    "    return '\\n'.join(data)"
   ]
  },
  {
   "cell_type": "code",
   "execution_count": 6,
   "id": "467522ca-3b37-47e1-8671-271d20c75f9b",
   "metadata": {},
   "outputs": [],
   "source": [
    "def pegar_dados(sheet):\n",
    "    \n",
    "    dados = dict(\n",
    "        secretaria = sheet['F4'].value,\n",
    "        projeto = sheet['F5'].value,\n",
    "        demais_orgaos_participantes = pegar_demais_orgaos(sheet),\n",
    "        andamento = sheet['F14'].value,\n",
    "        acao_futura = sheet['J14'].value,\n",
    "        estagio_atual = sheet['C16'].value,\n",
    "        inicio = sheet['F27'].value,\n",
    "        termino = sheet['N27'].value,\n",
    "        objetivo = sheet['C30'].value,\n",
    "        beneficiarios = sheet['C35'].value,\n",
    "        empregos_geados = sheet['C39'].value,\n",
    "        resultados_e_impactos = sheet['C42'].value,\n",
    "        \n",
    "    )\n",
    "    \n",
    "    \n",
    "    dados.update(pegar_orcamento(sheet))\n",
    "    \n",
    "    return dados"
   ]
  },
  {
   "cell_type": "code",
   "execution_count": 7,
   "id": "70eb12e6-1b74-4fd3-a741-9ac4ce21d8e1",
   "metadata": {},
   "outputs": [],
   "source": [
    "def limpar_texto(dados):\n",
    "    \n",
    "    limpo = {}\n",
    "    for key, val in dados.items():\n",
    "        if type(val) is str:\n",
    "            val_limpo = val.strip()\n",
    "            val_limpo = val_limpo.replace(u'\\u200b', '')\n",
    "            limpo[key] = val_limpo\n",
    "        else:\n",
    "            limpo[key] = val\n",
    "    \n",
    "    return limpo"
   ]
  },
  {
   "cell_type": "code",
   "execution_count": 8,
   "id": "75345e0f-89ba-4f89-8c75-48d595fe51bc",
   "metadata": {},
   "outputs": [],
   "source": [
    "def checar_sheet_de_dados(sheet):\n",
    "    \n",
    "    return sheet['B2'].value == \"Formulário de Ações - Plano de Retomada Econômica pós-pandemia\""
   ]
  },
  {
   "cell_type": "code",
   "execution_count": 9,
   "id": "a985011f-81e8-413a-9b5b-b3d4c9a736d6",
   "metadata": {},
   "outputs": [],
   "source": [
    "def get_data_from_all_sheets(file_path):\n",
    "    \n",
    "    wb = load_workbook(file_path)\n",
    "    sheets = wb.sheetnames\n",
    "    \n",
    "    all_sheet_data = []\n",
    "    for sheet_name in sheets:\n",
    "        sheet = wb[sheet_name]\n",
    "        if checar_sheet_de_dados(sheet):\n",
    "            data = pegar_dados(sheet)\n",
    "            data = limpar_texto(data)\n",
    "            all_sheet_data.append(data)\n",
    "        else:\n",
    "            print(f'File {file_path} contem planilha fora do padrão: {sheet_name}')\n",
    "    \n",
    "    return all_sheet_data"
   ]
  },
  {
   "cell_type": "code",
   "execution_count": 10,
   "id": "42b73c51-db44-4c4e-9bed-c0e88e5d0340",
   "metadata": {},
   "outputs": [],
   "source": [
    "def get_all_data(path_data):\n",
    "    \n",
    "    files = get_files(path_data)\n",
    "    data = []\n",
    "    \n",
    "    for file in files:\n",
    "        try:\n",
    "            data.extend(get_data_from_all_sheets(file))\n",
    "        except InvalidFileException as e:\n",
    "            print(file)\n",
    "            print(e)\n",
    "            print('-'*len(str(e)))\n",
    "        \n",
    "    return data"
   ]
  },
  {
   "cell_type": "code",
   "execution_count": 11,
   "id": "29151103-ce3b-4399-8f95-ee5e9607fb3c",
   "metadata": {},
   "outputs": [
    {
     "name": "stdout",
     "output_type": "stream",
     "text": [
      "original_data/formularios_03_08/SF/RetomaSP_SF.xls\n",
      "openpyxl does not support the old .xls file format, please use xlrd to read this file, or convert it to the more recent .xlsx file format.\n",
      "------------------------------------------------------------------------------------------------------------------------------------------\n",
      "original_data/formularios_03_08/SEPE/SEPE_REDE_DAORA.xls\n",
      "openpyxl does not support the old .xls file format, please use xlrd to read this file, or convert it to the more recent .xlsx file format.\n",
      "------------------------------------------------------------------------------------------------------------------------------------------\n",
      "original_data/formularios_03_08/PGM/Formul├бrio_Retoma SP desjudicializacao.xls\n",
      "openpyxl does not support the old .xls file format, please use xlrd to read this file, or convert it to the more recent .xlsx file format.\n",
      "------------------------------------------------------------------------------------------------------------------------------------------\n",
      "original_data/formularios_03_08/PGM/Formul├бrio_Retoma SP_transa├з├гo.xls\n",
      "openpyxl does not support the old .xls file format, please use xlrd to read this file, or convert it to the more recent .xlsx file format.\n",
      "------------------------------------------------------------------------------------------------------------------------------------------\n",
      "original_data/formularios_03_08/SMADS/Expans├гo da rede.xls\n",
      "openpyxl does not support the old .xls file format, please use xlrd to read this file, or convert it to the more recent .xlsx file format.\n",
      "------------------------------------------------------------------------------------------------------------------------------------------\n",
      "original_data/formularios_03_08/SMRI/Formul├бrio_Retoma SP_SMRI Parcerias..xls\n",
      "openpyxl does not support the old .xls file format, please use xlrd to read this file, or convert it to the more recent .xlsx file format.\n",
      "------------------------------------------------------------------------------------------------------------------------------------------\n",
      "original_data/formularios_03_08/SMRI/Formul├бrio_Retoma SP_SMRI Eventos..xls\n",
      "openpyxl does not support the old .xls file format, please use xlrd to read this file, or convert it to the more recent .xlsx file format.\n",
      "------------------------------------------------------------------------------------------------------------------------------------------\n",
      "original_data/formularios_03_08/SMUL/Formul├бrio_Retoma SP_SMUL.xls\n",
      "openpyxl does not support the old .xls file format, please use xlrd to read this file, or convert it to the more recent .xlsx file format.\n",
      "------------------------------------------------------------------------------------------------------------------------------------------\n",
      "original_data/formularios_03_08/SEME/Formul├бrio_Retoma SP - PEDALA SP.xls\n",
      "openpyxl does not support the old .xls file format, please use xlrd to read this file, or convert it to the more recent .xlsx file format.\n",
      "------------------------------------------------------------------------------------------------------------------------------------------\n",
      "original_data/formularios_03_08/SEME/Formul├бrio_Retoma SP - POLOS DE INCENTIVO AO BASQUETE.xls\n",
      "openpyxl does not support the old .xls file format, please use xlrd to read this file, or convert it to the more recent .xlsx file format.\n",
      "------------------------------------------------------------------------------------------------------------------------------------------\n",
      "original_data/formularios_03_08/SEME/Formul├бrio_Retoma SP - ESPORTES DE AREIA NA CIDADE DE S├ГO PAULO.xls\n",
      "openpyxl does not support the old .xls file format, please use xlrd to read this file, or convert it to the more recent .xlsx file format.\n",
      "------------------------------------------------------------------------------------------------------------------------------------------\n",
      "original_data/formularios_03_08/SEME/Formul├бrio_Retoma SP envio - Rede Olimpica.xls\n",
      "openpyxl does not support the old .xls file format, please use xlrd to read this file, or convert it to the more recent .xlsx file format.\n",
      "------------------------------------------------------------------------------------------------------------------------------------------\n",
      "original_data/formularios_03_08/SEME/Formul├бrio_Retoma SP - CLUBE ESCOLA.xls\n",
      "openpyxl does not support the old .xls file format, please use xlrd to read this file, or convert it to the more recent .xlsx file format.\n",
      "------------------------------------------------------------------------------------------------------------------------------------------\n",
      "original_data/formularios_03_08/SEME/Formul├бrio_Retoma SP - MEXA-SE.xls\n",
      "openpyxl does not support the old .xls file format, please use xlrd to read this file, or convert it to the more recent .xlsx file format.\n",
      "------------------------------------------------------------------------------------------------------------------------------------------\n",
      "original_data/formularios_03_08/SEME/Formul├бrio_Retoma SP - S├ГO PAULO MAIS RADICAL.xls\n",
      "openpyxl does not support the old .xls file format, please use xlrd to read this file, or convert it to the more recent .xlsx file format.\n",
      "------------------------------------------------------------------------------------------------------------------------------------------\n",
      "original_data/formularios_03_08/SEME/Formul├бrio_Retoma SP envio - Bolsa Atleta.xls\n",
      "openpyxl does not support the old .xls file format, please use xlrd to read this file, or convert it to the more recent .xlsx file format.\n",
      "------------------------------------------------------------------------------------------------------------------------------------------\n",
      "original_data/formularios_03_08/SEME/Formul├бrio_Retoma SP - FUTEBOL DE VARZ├КA.xls\n",
      "openpyxl does not support the old .xls file format, please use xlrd to read this file, or convert it to the more recent .xlsx file format.\n",
      "------------------------------------------------------------------------------------------------------------------------------------------\n",
      "original_data/formularios_03_08/SEME/Formul├бrio_Retoma SP envio - Revitaliza├з├гo.xls\n",
      "openpyxl does not support the old .xls file format, please use xlrd to read this file, or convert it to the more recent .xlsx file format.\n",
      "------------------------------------------------------------------------------------------------------------------------------------------\n",
      "original_data/formularios_03_08/SME/Formul├бrio_Retoma SP_ POT Volta ├аs Aulas SME_COCEU.xls\n",
      "openpyxl does not support the old .xls file format, please use xlrd to read this file, or convert it to the more recent .xlsx file format.\n",
      "------------------------------------------------------------------------------------------------------------------------------------------\n",
      "original_data/formularios_03_08/SME/.~lock.Formul├бrio_Retoma SP_ Estagi├бrios SME_COPED.xlsx#\n",
      "openpyxl does not support .xlsx# file format, please check you can open it with Excel first. Supported formats are: .xlsx,.xlsm,.xltx,.xltm\n",
      "-------------------------------------------------------------------------------------------------------------------------------------------\n",
      "original_data/formularios_03_08/SME/Formul├бrio_Retoma SP Vagas em Creche SME_COGED.xls\n",
      "openpyxl does not support the old .xls file format, please use xlrd to read this file, or convert it to the more recent .xlsx file format.\n",
      "------------------------------------------------------------------------------------------------------------------------------------------\n",
      "original_data/formularios_03_08/SME/Formul├бrio_Retoma SP - Obras - SME_COMAPRE.xls\n",
      "openpyxl does not support the old .xls file format, please use xlrd to read this file, or convert it to the more recent .xlsx file format.\n",
      "------------------------------------------------------------------------------------------------------------------------------------------\n",
      "original_data/formularios_03_08/SME/Formul├бrio_Retoma SP - Agricultura Familiar SME_CODAE.xls\n",
      "openpyxl does not support the old .xls file format, please use xlrd to read this file, or convert it to the more recent .xlsx file format.\n",
      "------------------------------------------------------------------------------------------------------------------------------------------\n",
      "original_data/formularios_03_08/SME/Formul├бrio_Retoma SP - Cart├гo Alimenta├з├гo - SME_CODAE.xls\n",
      "openpyxl does not support the old .xls file format, please use xlrd to read this file, or convert it to the more recent .xlsx file format.\n",
      "------------------------------------------------------------------------------------------------------------------------------------------\n",
      "File original_data/formularios_03_08/SME/Formul├бrio_Retoma SP_ Estagi├бrios SME_COPED.xlsx contem planilha fora do padrão: Divisão por DRE das novas vagas\n",
      "original_data/formularios_03_08/CGM/Formul├бrio_Retoma SP - Portal Recome├зar.xls\n",
      "openpyxl does not support the old .xls file format, please use xlrd to read this file, or convert it to the more recent .xlsx file format.\n",
      "------------------------------------------------------------------------------------------------------------------------------------------\n",
      "original_data/formularios_03_08/CGM/Formul├бrio_Retoma SP - Portal de combate a corrup├з├гo.xls\n",
      "openpyxl does not support the old .xls file format, please use xlrd to read this file, or convert it to the more recent .xlsx file format.\n",
      "------------------------------------------------------------------------------------------------------------------------------------------\n",
      "original_data/formularios_03_08/CGM/Formul├бrio_Retoma SP - Hub de projetos - GovTech.xls\n",
      "openpyxl does not support the old .xls file format, please use xlrd to read this file, or convert it to the more recent .xlsx file format.\n",
      "------------------------------------------------------------------------------------------------------------------------------------------\n",
      "original_data/formularios_03_08/CGM/Formul├бrio_Retoma SP - Forma├з├гo e Qualifica├з├гo Profissional.xls\n",
      "openpyxl does not support the old .xls file format, please use xlrd to read this file, or convert it to the more recent .xlsx file format.\n",
      "------------------------------------------------------------------------------------------------------------------------------------------\n",
      "original_data/formularios_03_08/CGM/Formul├бrio_Retoma SP - Capacita├з├гo de empresas para licita├з├╡es.xls\n",
      "openpyxl does not support the old .xls file format, please use xlrd to read this file, or convert it to the more recent .xlsx file format.\n",
      "------------------------------------------------------------------------------------------------------------------------------------------\n",
      "original_data/formularios_03_08/SMSUB/Formul├бrio_Retoma SP VRRECIFE.xls\n",
      "openpyxl does not support the old .xls file format, please use xlrd to read this file, or convert it to the more recent .xlsx file format.\n",
      "------------------------------------------------------------------------------------------------------------------------------------------\n"
     ]
    }
   ],
   "source": [
    "df = pd.DataFrame(get_all_data(path_data))"
   ]
  },
  {
   "cell_type": "code",
   "execution_count": 12,
   "id": "cfb47fa0-1c28-4ac6-b801-c0f68799b045",
   "metadata": {},
   "outputs": [],
   "source": [
    "df.to_excel('dados_extraidos_v1.xlsx')"
   ]
  },
  {
   "cell_type": "code",
   "execution_count": null,
   "id": "c3ab7911-3ff6-4fbd-bc89-3683c770add7",
   "metadata": {},
   "outputs": [],
   "source": []
  },
  {
   "cell_type": "code",
   "execution_count": null,
   "id": "15a41758-dcf6-4f9e-98f5-5fdaa3b01ab8",
   "metadata": {},
   "outputs": [],
   "source": []
  }
 ],
 "metadata": {
  "kernelspec": {
   "display_name": "Python 3",
   "language": "python",
   "name": "python3"
  },
  "language_info": {
   "codemirror_mode": {
    "name": "ipython",
    "version": 3
   },
   "file_extension": ".py",
   "mimetype": "text/x-python",
   "name": "python",
   "nbconvert_exporter": "python",
   "pygments_lexer": "ipython3",
   "version": "3.8.8"
  }
 },
 "nbformat": 4,
 "nbformat_minor": 5
}
