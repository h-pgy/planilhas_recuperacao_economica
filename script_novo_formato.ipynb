{
 "cells": [
  {
   "cell_type": "code",
   "execution_count": 1,
   "id": "2cccffd5-ee3f-4083-8bec-dfd9830abfec",
   "metadata": {},
   "outputs": [],
   "source": [
    "import pandas as pd\n",
    "from docx import Document\n",
    "from docx.oxml.ns import nsdecls\n",
    "from docx.oxml import parse_xml\n",
    "from docx.shared import RGBColor\n",
    "from docx.shared import Cm\n",
    "from docx.enum.table import WD_ROW_HEIGHT_RULE\n",
    "import math\n",
    "import re\n"
   ]
  },
  {
   "cell_type": "code",
   "execution_count": 2,
   "id": "f6cde9c9-2fd7-472c-b191-71c151b36b41",
   "metadata": {},
   "outputs": [],
   "source": [
    "def create_page(document):\n",
    "    \n",
    "    table = document.add_table(11,4)\n",
    "    table.style = 'Table Grid'\n",
    "    \n",
    "    return table"
   ]
  },
  {
   "cell_type": "code",
   "execution_count": 3,
   "id": "aa45d354-17a6-4df4-9038-36227f7dcead",
   "metadata": {},
   "outputs": [],
   "source": [
    "def merge_cells(table, row, max_cell, start_cell=0):\n",
    "    \n",
    "    merge_anchor = table.cell(row, start_cell)\n",
    "    for i in range(start_cell+1, max_cell+1):\n",
    "        merge_anchor.merge(table.cell(row, i))\n",
    "    \n",
    "    return merge_anchor"
   ]
  },
  {
   "cell_type": "code",
   "execution_count": 4,
   "id": "17cfcd07-38b5-42d6-808d-c42d903d0d5e",
   "metadata": {},
   "outputs": [],
   "source": [
    "def blue_cell(cell):\n",
    "    \n",
    "    # Set a cell background (shading) color to RGB D9D9D9.\n",
    "    shading_elm = parse_xml(r'<w:shd {} w:fill=\"4682B4\"/>'.format(nsdecls('w')))\n",
    "    cell._tc.get_or_add_tcPr().append(shading_elm)"
   ]
  },
  {
   "cell_type": "code",
   "execution_count": 5,
   "id": "eb9c481c-3f22-492f-a9ae-07cdda9b8a82",
   "metadata": {},
   "outputs": [],
   "source": [
    "def write_white(cell, text):\n",
    "    \n",
    "    text = cell.paragraphs[0].add_run(text)\n",
    "    white = RGBColor(255,255,255)\n",
    "    text.font.color.rgb = white"
   ]
  },
  {
   "cell_type": "code",
   "execution_count": 6,
   "id": "678f56de-1756-4d7d-8061-77123d1f27d6",
   "metadata": {},
   "outputs": [],
   "source": [
    "def white_on_blue(cell, text):\n",
    "    \n",
    "    blue_cell(cell)\n",
    "    write_white(cell, text)"
   ]
  },
  {
   "cell_type": "code",
   "execution_count": 7,
   "id": "5057a570-9bd7-42b6-b350-db309ba3aa77",
   "metadata": {},
   "outputs": [],
   "source": [
    "def white_row(table, row_num):\n",
    "    \n",
    "    merge_cells(table, row_num, max_cell=3)\n",
    "    row = table.rows[row_num]\n",
    "    row.height_rule = WD_ROW_HEIGHT_RULE.EXACTLY\n",
    "    row.height = Cm(.3)\n"
   ]
  },
  {
   "cell_type": "code",
   "execution_count": 8,
   "id": "49597d40-b5e8-4d38-97e6-38492bd85ea9",
   "metadata": {},
   "outputs": [],
   "source": [
    "def add_eixo(table, data_row):\n",
    "    \n",
    "    key = merge_cells(table, 0, 1)\n",
    "    white_on_blue(key, 'Eixo:')\n",
    "    \n",
    "    val = merge_cells(table, 0, 3, start_cell=2)\n",
    "    val.text = data_row['Eixo proposto']\n"
   ]
  },
  {
   "cell_type": "code",
   "execution_count": 9,
   "id": "3bc1dea3-6309-48be-92dc-1b568d709e9d",
   "metadata": {},
   "outputs": [],
   "source": [
    "def add_programa(table, data_row):\n",
    "    \n",
    "    key = merge_cells(table, 1, 1)\n",
    "    white_on_blue(key, 'Programa/Projeto:')\n",
    "    \n",
    "    val = merge_cells(table, 1, 3, start_cell=2)\n",
    "    val.text = data_row['projeto']\n"
   ]
  },
  {
   "cell_type": "code",
   "execution_count": 10,
   "id": "33baa3c1-dabd-4679-8f97-a76d044f703e",
   "metadata": {},
   "outputs": [],
   "source": [
    "def add_secretaria(table, data_row):\n",
    "    \n",
    "    key = merge_cells(table, 2, 1)\n",
    "    white_on_blue(key, 'Secretaria:')\n",
    "    \n",
    "    val = merge_cells(table, 2, 3, start_cell=2)\n",
    "    val.text = data_row['secretaria']"
   ]
  },
  {
   "cell_type": "code",
   "execution_count": 11,
   "id": "5ab349e0-cac6-4596-ab7d-d1a2a684ecdc",
   "metadata": {},
   "outputs": [],
   "source": [
    "def add_detalhamento(table, data_row):\n",
    "    \n",
    "    val = merge_cells(table, 3, 3, start_cell=0)\n",
    "    \n",
    "    texto = data_row['estagio_atual'] + '\\n' + data_row['objetivo'] \n",
    "    val.text = texto"
   ]
  },
  {
   "cell_type": "code",
   "execution_count": 12,
   "id": "37d4cea5-1a28-4300-b6d2-a25e591abc6f",
   "metadata": {},
   "outputs": [],
   "source": [
    "def add_andamento_acao_futura(table, data_row):\n",
    "    \n",
    "    key = table.cell(4,0)\n",
    "    white_on_blue(key, 'Em andamento:')\n",
    "    \n",
    "    val = table.cell(4,1)\n",
    "    val.text = data_row['andamento']\n",
    "    \n",
    "    \n",
    "    key = table.cell(4,2)\n",
    "    white_on_blue(key, 'Ação futura:')\n",
    "    \n",
    "    val = table.cell(4,3)\n",
    "    val.text = data_row['acao_futura']"
   ]
  },
  {
   "cell_type": "code",
   "execution_count": 13,
   "id": "f8923bd5-4130-4233-a7b0-39085cb5a2d9",
   "metadata": {},
   "outputs": [],
   "source": [
    "def add_beneficiarios(table, data_row):\n",
    "    \n",
    "    key = merge_cells(table, 5, 3)\n",
    "    white_on_blue(key, 'Beneficiários:')\n",
    "    \n",
    "    val = merge_cells(table, 6, 3)\n",
    "    val.text = data_row['beneficiarios']"
   ]
  },
  {
   "cell_type": "code",
   "execution_count": 14,
   "id": "c54f6e1e-0a76-46d3-908d-ecb5dea1e355",
   "metadata": {},
   "outputs": [],
   "source": [
    "def add_resultados_esperados(table, data_row):\n",
    "    \n",
    "    key = merge_cells(table, 7, 3)\n",
    "    white_on_blue(key, 'Resultados Esperados e Impactos:')\n",
    "    \n",
    "    val = merge_cells(table, 8, 3)\n",
    "    val.text = data_row['resultados_e_impactos']"
   ]
  },
  {
   "cell_type": "code",
   "execution_count": 15,
   "id": "b42b3a45-9da9-40e4-af1d-64092ee2a300",
   "metadata": {},
   "outputs": [],
   "source": [
    "def add_vinculacao_pdm(table, data_row):\n",
    "    \n",
    "    key = merge_cells(table, 9, 1)\n",
    "    white_on_blue(key, 'Vinculação PDM:')\n",
    "    \n",
    "    val = merge_cells(table, 9, 3, start_cell=2)\n",
    "    val.text = ''"
   ]
  },
  {
   "cell_type": "code",
   "execution_count": 16,
   "id": "3b6ff3ad-d9af-456f-b9ea-5379fc1b4907",
   "metadata": {},
   "outputs": [],
   "source": [
    "def add_vinculacao_ods(table, data_row):\n",
    "    \n",
    "    key = merge_cells(table, 10, 1)\n",
    "    white_on_blue(key, 'Vinculação ODS:')\n",
    "    \n",
    "    val = merge_cells(table, 10, 3, start_cell=2)\n",
    "    val.text = ''"
   ]
  },
  {
   "cell_type": "code",
   "execution_count": 17,
   "id": "590240ca-6059-448f-9676-5cfd489759bb",
   "metadata": {},
   "outputs": [],
   "source": [
    "def add_anotacoes(document, data_row):\n",
    "    \n",
    "    obs_sepep = f\"Obs SEPEP: {data_row['SEPEP - OBS']}\"\n",
    "    obs_sepe = f\"Obs SEPE: {data_row['SEPE - OBS']}\"\n",
    "    \n",
    "    document.add_paragraph('')#para separar da tabela\n",
    "    document.add_paragraph(obs_sepep)\n",
    "    document.add_paragraph(obs_sepe)"
   ]
  },
  {
   "cell_type": "code",
   "execution_count": 18,
   "id": "85f545fc-5b0a-413b-bb4b-4622f457c756",
   "metadata": {},
   "outputs": [],
   "source": [
    "def write_project(document, data_row):\n",
    "    \n",
    "    table = create_page(document)\n",
    "    \n",
    "    add_eixo(table, data_row)\n",
    "    add_programa(table, data_row)\n",
    "    add_secretaria(table, data_row)\n",
    "    add_detalhamento(table, data_row)\n",
    "    add_andamento_acao_futura(table, data_row)\n",
    "    add_beneficiarios(table, data_row)\n",
    "    add_resultados_esperados(table, data_row)\n",
    "    add_anotacoes(document, data_row)\n",
    "    add_vinculacao_pdm(table, data_row)\n",
    "    add_vinculacao_ods(table, data_row)\n",
    "    \n",
    "    document.add_page_break()"
   ]
  },
  {
   "cell_type": "code",
   "execution_count": 19,
   "id": "679eb0e9-be8a-4119-be71-56b2bb66f520",
   "metadata": {},
   "outputs": [
    {
     "name": "stderr",
     "output_type": "stream",
     "text": [
      "/home/h-pgy/anaconda3/lib/python3.8/site-packages/openpyxl/worksheet/_reader.py:312: UserWarning: Data Validation extension is not supported and will be removed\n",
      "  warn(msg)\n"
     ]
    }
   ],
   "source": [
    "df = pd.read_excel('original_data/novo_formato/Sistematização formulários.xlsx')"
   ]
  },
  {
   "cell_type": "code",
   "execution_count": 20,
   "id": "187e8567-6262-4a3f-a878-1b6d399760fa",
   "metadata": {},
   "outputs": [],
   "source": [
    "def filtrar_ok_sepep(df):\n",
    "    \n",
    "    ok_sepep = df['SEPEP - ADERÊNCIA AO ESCOPO DO PLANO DE RETOMADA? (SIM/NÃO)'].str.lower()=='sim'\n",
    "    \n",
    "    return df[ok_sepep].copy()"
   ]
  },
  {
   "cell_type": "code",
   "execution_count": 21,
   "id": "35c83b45-e462-4515-aa02-1666ea9dfc2f",
   "metadata": {},
   "outputs": [],
   "source": [
    "def dropar_col_zuadas(df):\n",
    "    \n",
    "    dropar = [col for col in df.columns \n",
    "             if col.startswith('Unnamed')]\n",
    "    \n",
    "    df = df.drop(dropar, axis=1).copy()\n",
    "    \n",
    "    return df"
   ]
  },
  {
   "cell_type": "code",
   "execution_count": 22,
   "id": "14184b96-b771-441e-b728-b9ff00eb5bf0",
   "metadata": {},
   "outputs": [],
   "source": [
    "def ordenar(df):\n",
    "    \n",
    "    col_ordem = 'Numeração 10.08'\n",
    "\n",
    "    df.sort_values(by=col_ordem, inplace=True)"
   ]
  },
  {
   "cell_type": "code",
   "execution_count": 23,
   "id": "672001b1-9fcc-447b-b8a6-f71e977bb88a",
   "metadata": {},
   "outputs": [],
   "source": [
    "def cols_to_str(df):\n",
    "    \n",
    "    df.fillna('', inplace=True)\n",
    "    for col in df.columns:\n",
    "        df[col] = df[col].apply(str)"
   ]
  },
  {
   "cell_type": "code",
   "execution_count": 24,
   "id": "3c97c22c-b73a-480e-888a-5d0384f68aca",
   "metadata": {},
   "outputs": [],
   "source": [
    "def limpar_df_geral(df):\n",
    "    \n",
    "    df = filtrar_ok_sepep(df)\n",
    "    df = dropar_col_zuadas(df)\n",
    "    \n",
    "    ordenar(df)\n",
    "    cols_to_str(df)\n",
    "    \n",
    "    return df"
   ]
  },
  {
   "cell_type": "code",
   "execution_count": 25,
   "id": "d150d0c8-7770-4d7e-9b0a-bbc5bfccf3bf",
   "metadata": {},
   "outputs": [],
   "source": [
    "def separar_dfs(df):\n",
    "    \n",
    "    eixos = df['Eixo proposto'].unique()\n",
    "    dfs =[]\n",
    "    for eixo in eixos:\n",
    "        filtro = df['Eixo proposto']==eixo\n",
    "        filtrado = df[filtro].copy().reset_index(drop=True)\n",
    "        dfs.append(filtrado)\n",
    "        \n",
    "    return dfs"
   ]
  },
  {
   "cell_type": "code",
   "execution_count": 26,
   "id": "c5b251ba-8606-45ff-8c1f-94e960275877",
   "metadata": {},
   "outputs": [],
   "source": [
    "df = limpar_df_geral(df)"
   ]
  },
  {
   "cell_type": "code",
   "execution_count": 27,
   "id": "6c5d0e17-77bd-4db3-a33e-2140df8af175",
   "metadata": {},
   "outputs": [],
   "source": [
    "dfs = separar_dfs(df)"
   ]
  },
  {
   "cell_type": "code",
   "execution_count": 28,
   "id": "4030feb6-2527-4984-a72d-84323cb71a14",
   "metadata": {},
   "outputs": [
    {
     "name": "stdout",
     "output_type": "stream",
     "text": [
      "0\n",
      "1\n",
      "2\n",
      "3\n",
      "4\n",
      "5\n",
      "6\n",
      "7\n",
      "0\n",
      "1\n",
      "2\n",
      "3\n",
      "4\n",
      "5\n",
      "6\n",
      "7\n",
      "8\n",
      "9\n",
      "10\n",
      "11\n",
      "12\n",
      "13\n",
      "14\n",
      "15\n",
      "16\n",
      "17\n",
      "18\n",
      "19\n",
      "20\n",
      "21\n",
      "22\n",
      "23\n",
      "24\n",
      "25\n",
      "26\n",
      "27\n",
      "28\n",
      "29\n",
      "30\n",
      "31\n",
      "32\n",
      "33\n",
      "34\n",
      "35\n",
      "36\n",
      "37\n",
      "38\n",
      "39\n",
      "40\n",
      "41\n",
      "42\n",
      "43\n",
      "44\n",
      "45\n",
      "46\n",
      "47\n",
      "48\n",
      "0\n",
      "1\n",
      "2\n",
      "0\n",
      "1\n",
      "2\n",
      "3\n",
      "4\n",
      "5\n",
      "6\n",
      "7\n",
      "8\n",
      "9\n",
      "10\n",
      "11\n",
      "12\n",
      "13\n",
      "14\n",
      "15\n",
      "0\n",
      "1\n",
      "2\n",
      "3\n",
      "4\n",
      "5\n",
      "6\n",
      "7\n",
      "8\n",
      "9\n",
      "10\n",
      "11\n",
      "12\n",
      "13\n",
      "14\n",
      "15\n",
      "16\n",
      "17\n",
      "18\n",
      "19\n",
      "20\n",
      "21\n",
      "22\n",
      "23\n",
      "24\n",
      "25\n",
      "26\n",
      "27\n",
      "28\n",
      "0\n",
      "1\n",
      "2\n",
      "3\n",
      "4\n",
      "5\n",
      "6\n",
      "7\n",
      "8\n",
      "9\n",
      "10\n",
      "11\n",
      "12\n",
      "13\n",
      "14\n",
      "15\n",
      "16\n",
      "17\n",
      "18\n",
      "19\n",
      "20\n"
     ]
    }
   ],
   "source": [
    "for i, df in enumerate(dfs):\n",
    "    document = Document()\n",
    "    for row_num, row in df.iterrows():\n",
    "        print(row_num)\n",
    "        write_project(document, row)\n",
    "    document.save(f'teste_novo_formato{i}.docx')"
   ]
  },
  {
   "cell_type": "code",
   "execution_count": null,
   "id": "d267511c-5ce0-485e-a500-9900123e88f5",
   "metadata": {},
   "outputs": [],
   "source": []
  }
 ],
 "metadata": {
  "kernelspec": {
   "display_name": "Python 3",
   "language": "python",
   "name": "python3"
  },
  "language_info": {
   "codemirror_mode": {
    "name": "ipython",
    "version": 3
   },
   "file_extension": ".py",
   "mimetype": "text/x-python",
   "name": "python",
   "nbconvert_exporter": "python",
   "pygments_lexer": "ipython3",
   "version": "3.8.8"
  }
 },
 "nbformat": 4,
 "nbformat_minor": 5
}
