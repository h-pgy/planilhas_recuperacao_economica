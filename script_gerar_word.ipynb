{
 "cells": [
  {
   "cell_type": "code",
   "execution_count": 1,
   "id": "06c1f662-59a7-4f01-b602-75d85a50b321",
   "metadata": {},
   "outputs": [],
   "source": [
    "import pandas as pd\n",
    "from docx import Document\n",
    "from docx.oxml.ns import nsdecls\n",
    "from docx.oxml import parse_xml\n",
    "from docx.shared import RGBColor\n",
    "from docx.shared import Cm\n",
    "from docx.enum.table import WD_ROW_HEIGHT_RULE\n",
    "import math\n",
    "import re"
   ]
  },
  {
   "cell_type": "code",
   "execution_count": 2,
   "id": "d6168a43-47ee-4837-bdc4-eeef7d0a1989",
   "metadata": {},
   "outputs": [],
   "source": [
    "def create_page(document):\n",
    "    \n",
    "    table = document.add_table(32,4)\n",
    "    table.style = 'Table Grid'\n",
    "    \n",
    "    return table"
   ]
  },
  {
   "cell_type": "code",
   "execution_count": 3,
   "id": "0439c257-edc6-4275-8afe-2484bd8a96c1",
   "metadata": {},
   "outputs": [],
   "source": [
    "def merge_cells(table, row, max_cell, start_cell=0):\n",
    "    \n",
    "    merge_anchor = table.cell(row, start_cell)\n",
    "    for i in range(start_cell+1, max_cell+1):\n",
    "        merge_anchor.merge(table.cell(row, i))\n",
    "    \n",
    "    return merge_anchor\n",
    "        \n",
    "    "
   ]
  },
  {
   "cell_type": "code",
   "execution_count": 4,
   "id": "136c42bf-7ef9-45ee-88ee-99a1eec50a43",
   "metadata": {},
   "outputs": [],
   "source": [
    "def blue_cell(cell):\n",
    "    \n",
    "    # Set a cell background (shading) color to RGB D9D9D9.\n",
    "    shading_elm = parse_xml(r'<w:shd {} w:fill=\"4682B4\"/>'.format(nsdecls('w')))\n",
    "    cell._tc.get_or_add_tcPr().append(shading_elm)"
   ]
  },
  {
   "cell_type": "code",
   "execution_count": 5,
   "id": "0d8044df-945c-426e-9895-2cd264cfed80",
   "metadata": {},
   "outputs": [],
   "source": [
    "def write_white(cell, text):\n",
    "    \n",
    "    text = cell.paragraphs[0].add_run(text)\n",
    "    white = RGBColor(255,255,255)\n",
    "    text.font.color.rgb = white"
   ]
  },
  {
   "cell_type": "code",
   "execution_count": 6,
   "id": "31f0e8a8-da96-4dab-afb9-06b96e86b634",
   "metadata": {},
   "outputs": [],
   "source": [
    "def white_on_blue(cell, text):\n",
    "    \n",
    "    blue_cell(cell)\n",
    "    write_white(cell, text)"
   ]
  },
  {
   "cell_type": "code",
   "execution_count": 7,
   "id": "10d17ff6-b014-4c47-8b8d-ac3fa41df7df",
   "metadata": {},
   "outputs": [],
   "source": [
    "def white_row(table, row_num):\n",
    "    \n",
    "    merge_cells(table, row_num, max_cell=3)\n",
    "    row = table.rows[row_num]\n",
    "    row.height_rule = WD_ROW_HEIGHT_RULE.EXACTLY\n",
    "    row.height = Cm(.3)\n"
   ]
  },
  {
   "cell_type": "code",
   "execution_count": 8,
   "id": "05c0349c-842c-46ea-bce7-9600f45be1b2",
   "metadata": {},
   "outputs": [],
   "source": [
    "def add_header(table, num_linha):\n",
    "    \n",
    "    header_text = 'Formulário de Ações - Plano de Retomada Econômica pós-pandemia'\n",
    "    merged_header = merge_cells(table, 0, 3)\n",
    "    white_on_blue(merged_header, header_text)\n",
    "    num_linha_cell = merge_cells(table, 1, 3)\n",
    "    num_linha_cell.text = str(num_linha)"
   ]
  },
  {
   "cell_type": "code",
   "execution_count": 9,
   "id": "7ebfcfa5-e5e0-4e0b-b84a-799355d286ba",
   "metadata": {},
   "outputs": [],
   "source": [
    "def add_secretaria(table, data_row):\n",
    "    \n",
    "    key_secretaria = merge_cells(table, 2, 1)\n",
    "    white_on_blue(key_secretaria, 'Secretaria:')\n",
    "    \n",
    "    val_secretaria = merge_cells(table, 2, 3, start_cell=2)\n",
    "    val_secretaria.text = data_row['secretaria']"
   ]
  },
  {
   "cell_type": "code",
   "execution_count": 10,
   "id": "e81f79bc-4651-4991-a19c-c8218534fb8e",
   "metadata": {},
   "outputs": [],
   "source": [
    "def add_projeto(table, data_row):\n",
    "    \n",
    "    key_projeto = merge_cells(table, 3, 1)\n",
    "    white_on_blue(key_projeto, 'Programa/Projeto:')\n",
    "    \n",
    "    val_projeto = merge_cells(table, 3, 3, start_cell=2)\n",
    "    val_projeto.text = data_row['projeto']\n",
    "    white_row(table, 4)"
   ]
  },
  {
   "cell_type": "code",
   "execution_count": 11,
   "id": "8344443c-4cf2-4ef5-aeec-707eed374125",
   "metadata": {
    "tags": []
   },
   "outputs": [],
   "source": [
    "def demais_orgaos(table, data_row):\n",
    "    \n",
    "    header_demais_orgaos = merge_cells(table, 5, 3)\n",
    "    white_on_blue(header_demais_orgaos,'Demais órgãos participantes/interessados')\n",
    "    val_demais_orgaos = merge_cells(table, 6, 3)\n",
    "    val_demais_orgaos.text = data_row['demais_orgaos_participantes']\n",
    "    white_row(table, 7)"
   ]
  },
  {
   "cell_type": "code",
   "execution_count": 12,
   "id": "3a4d559a-7b3a-4d60-9b7c-8715c8f5bbf8",
   "metadata": {},
   "outputs": [],
   "source": [
    "def estagio_atual_projeto(table, data_row):\n",
    "    \n",
    "    header_estagio = merge_cells(table, 8, 3)\n",
    "    white_on_blue(header_estagio,\"Estágio atual do Projeto\")\n",
    "    table.cell(9, 0).text = \"Em andamento\"\n",
    "    table.cell(9, 1).text=data_row['andamento']\n",
    "    table.cell(9, 2).text=\"Ação futura\"\n",
    "    table.cell(9,3).text=data_row['acao_futura']\n",
    "    desc_estagio_cell = merge_cells(table, 10, 3)\n",
    "    desc_estagio_cell.text=data_row['estagio_atual']\n",
    "    white_row(table, 11)"
   ]
  },
  {
   "cell_type": "code",
   "execution_count": 13,
   "id": "2483f142-cd63-4e7b-8297-a2d7d2ca2a03",
   "metadata": {},
   "outputs": [],
   "source": [
    "def orcamento_proj(table, data_row):\n",
    "    \n",
    "    header_orcamento = merge_cells(table, 12, 3)\n",
    "    header_orcamento.text = \"Valor\"\n",
    "    white_on_blue(table.cell(13, 0), 'Ano')\n",
    "    white_on_blue(table.cell(13, 1), 'Investimento (R$ mil)')\n",
    "    white_on_blue(table.cell(13, 2), 'Custerio (R$ mil)')\n",
    "    white_on_blue(table.cell(13, 3), 'Informações Complementares')\n",
    "    \n",
    "    table.cell(14, 0).text = data_row['desc_ano_1']\n",
    "    table.cell(14, 1).text = data_row['investimento_ano_1']\n",
    "    table.cell(14, 2).text = data_row['custeio_ano_1']\n",
    "    table.cell(14, 3).text = data_row['info_complementares_ano_1']\n",
    "    table.cell(15, 0).text = data_row['desc_ano_2']\n",
    "    table.cell(15, 1).text = data_row['investimento_ano_2']\n",
    "    table.cell(15, 2).text = data_row['custeio_ano_2']\n",
    "    table.cell(15, 3).text = data_row['info_complementares_ano_2']\n",
    "    table.cell(16, 0).text = data_row['desc_ano_3']\n",
    "    table.cell(16, 1).text = data_row['investimento_ano_3']\n",
    "    table.cell(16, 2).text = data_row['custeio_ano_3']\n",
    "    table.cell(16, 3).text = data_row['info_complementares_ano_3']\n",
    "    table.cell(17, 0).text = data_row['desc_ano_4']\n",
    "    table.cell(17, 1).text = data_row['investimento_ano_4']\n",
    "    table.cell(17, 2).text = data_row['custeio_ano_4']\n",
    "    table.cell(17, 3).text = data_row['info_complementares_ano_4']\n",
    "    \n",
    "    white_row(table, 18)"
   ]
  },
  {
   "cell_type": "code",
   "execution_count": 14,
   "id": "df65ede1-f76a-45ec-a36f-f072d3a8751a",
   "metadata": {},
   "outputs": [],
   "source": [
    "def inicio_e_termino_previsto(table, data_row):\n",
    "    \n",
    "    white_on_blue(table.cell(19, 0), 'Início previsto:')\n",
    "    white_on_blue(table.cell(19, 2), 'Término previsto:')\n",
    "    table.cell(19, 1).text = data_row['inicio']\n",
    "    table.cell(19, 3).text = data_row['termino']\n",
    "    \n",
    "    white_row(table, 20)"
   ]
  },
  {
   "cell_type": "code",
   "execution_count": 15,
   "id": "f85f5f31-81d5-4163-8f5c-9dcd6446e67e",
   "metadata": {},
   "outputs": [],
   "source": [
    "def objetivo_projeto(table, data_row):\n",
    "    \n",
    "    header_objetivo = merge_cells(table, 21, 3)\n",
    "    white_on_blue(header_objetivo,\"Objetivo do Programa ou Projeto\")\n",
    "    \n",
    "    val_objetivo = merge_cells(table, 22, 3)\n",
    "    val_objetivo.text = data_row['objetivo']\n",
    "    \n",
    "    white_row(table, 23)"
   ]
  },
  {
   "cell_type": "code",
   "execution_count": 16,
   "id": "4ca24038-36ae-4eed-9c0a-fd9121d91465",
   "metadata": {},
   "outputs": [],
   "source": [
    "def beneficiarios(table, data_row):\n",
    "    \n",
    "    header = merge_cells(table, 24, 3)\n",
    "    white_on_blue(header,\"Beneficiários:\")\n",
    "    \n",
    "    val = merge_cells(table, 25, 3)\n",
    "    val.text = data_row['beneficiarios']\n",
    "    \n",
    "    white_row(table, 26)"
   ]
  },
  {
   "cell_type": "code",
   "execution_count": 17,
   "id": "aa7389ed-1561-4af6-be34-53560581bdf0",
   "metadata": {},
   "outputs": [],
   "source": [
    "def empregos(table, data_row):\n",
    "    \n",
    "    header = merge_cells(table, 27, 3)\n",
    "    white_on_blue(header,\"Empregos gerados:\")\n",
    "    \n",
    "    val = merge_cells(table, 28, 3)\n",
    "    val.text = data_row['empregos_geados']\n",
    "    \n",
    "    white_row(table, 29)"
   ]
  },
  {
   "cell_type": "code",
   "execution_count": 18,
   "id": "8e749a86-8d41-4759-b620-f6c5d49110b8",
   "metadata": {},
   "outputs": [],
   "source": [
    "def resultados_esperados(table, data_row):\n",
    "    \n",
    "    header = merge_cells(table, 30, 3)\n",
    "    white_on_blue(header,\"Resultados Esperados e Impactos:\")\n",
    "    \n",
    "    val = merge_cells(table, 31, 3)\n",
    "    val.text = data_row['resultados_e_impactos']"
   ]
  },
  {
   "cell_type": "code",
   "execution_count": 19,
   "id": "b8cb44d8-4453-48a4-813c-e28474e33785",
   "metadata": {},
   "outputs": [],
   "source": [
    "def write_project(document, data_row, num_linha):\n",
    "    \n",
    "    table = create_page(document)\n",
    "    \n",
    "    add_header(table, num_linha)\n",
    "    add_secretaria(table, data_row)\n",
    "    add_projeto(table, data_row)\n",
    "    demais_orgaos(table, data_row)\n",
    "    estagio_atual_projeto(table, data_row)\n",
    "    orcamento_proj(table, data_row)\n",
    "    inicio_e_termino_previsto(table, data_row)\n",
    "    objetivo_projeto(table, data_row)\n",
    "    beneficiarios(table, data_row)\n",
    "    empregos(table, data_row)\n",
    "    resultados_esperados(table, data_row)\n",
    "    \n",
    "    document.add_page_break()"
   ]
  },
  {
   "cell_type": "code",
   "execution_count": 20,
   "id": "2274989a-844b-432a-832f-511ab2efd7b5",
   "metadata": {},
   "outputs": [],
   "source": [
    "def format_as_reais(item):\n",
    "    \n",
    "    if item.startswith('R$'):\n",
    "        return item\n",
    "    else:\n",
    "        try:\n",
    "            item = float(item)\n",
    "            fracao, inteiro = math.modf(item)\n",
    "            fracao = round(fracao, 2)\n",
    "            fracao = str(fracao).split('.')[-1]\n",
    "            if len(fracao)<2:\n",
    "                fracao = fracao+'0'\n",
    "            digitos = str(int(inteiro))\n",
    "            digitos_com_ponto = []\n",
    "            for i, num in enumerate(digitos[::-1]):\n",
    "                if i>0 and i%3 ==0:\n",
    "                    digitos_com_ponto.append('.')\n",
    "                digitos_com_ponto.append(num)\n",
    "            digitos_com_ponto.reverse()\n",
    "            digitos = ''.join(digitos_com_ponto)\n",
    "                    \n",
    "            return f\"R${digitos},{fracao}\"\n",
    "        except ValueError:\n",
    "            return item"
   ]
  },
  {
   "cell_type": "code",
   "execution_count": 21,
   "id": "5efa7456-c4eb-48b7-81f8-82ac0cd88980",
   "metadata": {},
   "outputs": [],
   "source": [
    "def format_as_data(data):\n",
    "    \n",
    "    if data:\n",
    "        match = re.match('^\\d{4}-\\d{2}-\\d{2}', data)\n",
    "        if match:\n",
    "            match = match.group()\n",
    "            ano, mes, dia = match.split('-')\n",
    "            return f'{dia}/{mes}/{ano}'\n",
    "        else:\n",
    "            return data\n",
    "    else:\n",
    "        return data"
   ]
  },
  {
   "cell_type": "code",
   "execution_count": 22,
   "id": "b2187911-f70f-4d1a-8f72-877d1670e79c",
   "metadata": {},
   "outputs": [],
   "source": [
    "data = pd.read_excel('dados_extraidos_v2.xlsx')"
   ]
  },
  {
   "cell_type": "code",
   "execution_count": 23,
   "id": "e82ff435-02b0-4bb8-9577-a4da01f18748",
   "metadata": {},
   "outputs": [
    {
     "data": {
      "text/plain": [
       "Index(['Unnamed: 0', 'secretaria', 'projeto', 'demais_orgaos_participantes',\n",
       "       'andamento', 'acao_futura', 'estagio_atual', 'inicio', 'termino',\n",
       "       'objetivo', 'beneficiarios', 'empregos_geados', 'resultados_e_impactos',\n",
       "       'desc_ano_1', 'investimento_ano_1', 'custeio_ano_1',\n",
       "       'info_complementares_ano_1', 'desc_ano_2', 'investimento_ano_2',\n",
       "       'custeio_ano_2', 'info_complementares_ano_2', 'desc_ano_3',\n",
       "       'investimento_ano_3', 'custeio_ano_3', 'info_complementares_ano_3',\n",
       "       'desc_ano_4', 'investimento_ano_4', 'custeio_ano_4',\n",
       "       'info_complementares_ano_4'],\n",
       "      dtype='object')"
      ]
     },
     "execution_count": 23,
     "metadata": {},
     "output_type": "execute_result"
    }
   ],
   "source": [
    "data.keys()"
   ]
  },
  {
   "cell_type": "code",
   "execution_count": 24,
   "id": "35d2b4b9-c7e8-4a56-a865-a9867ae6f24c",
   "metadata": {},
   "outputs": [],
   "source": [
    "data.drop('Unnamed: 0', axis = 1, inplace = True)\n",
    "data.fillna('', inplace=True)"
   ]
  },
  {
   "cell_type": "code",
   "execution_count": 25,
   "id": "30592f34-3e8c-474c-8d56-80e73fe4b782",
   "metadata": {},
   "outputs": [],
   "source": [
    "for col in data.columns:\n",
    "    data[col] = data[col].apply(str)"
   ]
  },
  {
   "cell_type": "code",
   "execution_count": 26,
   "id": "6d6c07e4-d36c-4672-b019-170b8b5e3c52",
   "metadata": {},
   "outputs": [],
   "source": [
    "colunas_dinheiro = [\n",
    "    'investimento_ano_1', 'custeio_ano_1', \n",
    "    'investimento_ano_2','custeio_ano_2', \n",
    "    'investimento_ano_3', 'custeio_ano_3', \n",
    "    'investimento_ano_4', 'custeio_ano_4'\n",
    "]\n",
    "\n",
    "for col in colunas_dinheiro:\n",
    "    data[col] = data[col].apply(format_as_reais)"
   ]
  },
  {
   "cell_type": "code",
   "execution_count": 27,
   "id": "aa04115b-e136-40cb-9088-3b7732450b70",
   "metadata": {},
   "outputs": [],
   "source": [
    "data['termino'] = data['termino'].apply(format_as_data)\n",
    "data['inicio'] = data['inicio'].apply(format_as_data)"
   ]
  },
  {
   "cell_type": "code",
   "execution_count": 28,
   "id": "a86a6b02-9fbd-4aa9-a8d7-b52e4eb6d682",
   "metadata": {},
   "outputs": [],
   "source": [
    "document = Document()"
   ]
  },
  {
   "cell_type": "code",
   "execution_count": 29,
   "id": "ae34ad26-e116-4bca-aa45-8e5410794ad2",
   "metadata": {},
   "outputs": [
    {
     "name": "stdout",
     "output_type": "stream",
     "text": [
      "0\n",
      "1\n",
      "2\n",
      "3\n",
      "4\n",
      "5\n",
      "6\n",
      "7\n",
      "8\n",
      "9\n",
      "10\n",
      "11\n",
      "12\n",
      "13\n",
      "14\n",
      "15\n",
      "16\n",
      "17\n",
      "18\n",
      "19\n",
      "20\n",
      "21\n",
      "22\n",
      "23\n",
      "24\n",
      "25\n",
      "26\n",
      "27\n",
      "28\n",
      "29\n",
      "30\n",
      "31\n",
      "32\n",
      "33\n",
      "34\n",
      "35\n",
      "36\n",
      "37\n",
      "38\n",
      "39\n",
      "40\n",
      "41\n",
      "42\n",
      "43\n",
      "44\n",
      "45\n",
      "46\n",
      "47\n",
      "48\n",
      "49\n",
      "50\n",
      "51\n",
      "52\n",
      "53\n",
      "54\n",
      "55\n",
      "56\n",
      "57\n",
      "58\n",
      "59\n",
      "60\n",
      "61\n",
      "62\n",
      "63\n",
      "64\n",
      "65\n",
      "66\n",
      "67\n",
      "68\n",
      "69\n",
      "70\n",
      "71\n",
      "72\n",
      "73\n",
      "74\n",
      "75\n",
      "76\n",
      "77\n",
      "78\n",
      "79\n",
      "80\n",
      "81\n",
      "82\n",
      "83\n",
      "84\n",
      "85\n",
      "86\n",
      "87\n",
      "88\n",
      "89\n",
      "90\n",
      "91\n",
      "92\n",
      "93\n",
      "94\n",
      "95\n",
      "96\n",
      "97\n",
      "98\n",
      "99\n",
      "100\n",
      "101\n",
      "102\n",
      "103\n",
      "104\n",
      "105\n",
      "106\n",
      "107\n",
      "108\n",
      "109\n",
      "110\n",
      "111\n",
      "112\n",
      "113\n",
      "114\n",
      "115\n",
      "116\n",
      "117\n",
      "118\n",
      "119\n",
      "120\n",
      "121\n",
      "122\n",
      "123\n",
      "124\n",
      "125\n",
      "126\n",
      "127\n",
      "128\n",
      "129\n",
      "130\n",
      "131\n",
      "132\n",
      "133\n",
      "134\n",
      "135\n",
      "136\n",
      "137\n",
      "138\n",
      "139\n",
      "140\n",
      "141\n",
      "142\n"
     ]
    }
   ],
   "source": [
    "for i, row in data.iterrows():\n",
    "    print(i)\n",
    "    write_project(document, row, i)"
   ]
  },
  {
   "cell_type": "code",
   "execution_count": 30,
   "id": "a45170ba-374a-4cf3-b89a-ec4b8676493a",
   "metadata": {},
   "outputs": [],
   "source": [
    "document.save('teste2.docx')"
   ]
  },
  {
   "cell_type": "code",
   "execution_count": null,
   "id": "753e9681-d1e8-41fd-9909-dac81a922c21",
   "metadata": {},
   "outputs": [],
   "source": []
  }
 ],
 "metadata": {
  "kernelspec": {
   "display_name": "Python 3",
   "language": "python",
   "name": "python3"
  },
  "language_info": {
   "codemirror_mode": {
    "name": "ipython",
    "version": 3
   },
   "file_extension": ".py",
   "mimetype": "text/x-python",
   "name": "python",
   "nbconvert_exporter": "python",
   "pygments_lexer": "ipython3",
   "version": "3.8.8"
  }
 },
 "nbformat": 4,
 "nbformat_minor": 5
}
